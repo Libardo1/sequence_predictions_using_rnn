{
 "cells": [
  {
   "cell_type": "markdown",
   "metadata": {},
   "source": [
    "### In this notebook, I will be following the post in the [blog](http://r2rt.com/recurrent-neural-networks-in-tensorflow-i.html)"
   ]
  },
  {
   "cell_type": "markdown",
   "metadata": {},
   "source": [
    "The taks is that given a sequence of input $X_t$, predict output $Y_t$.\n",
    "\n",
    "$X_t$'s are iid Bernouli random variable.\n",
    "\n",
    "$Y_t$ is also a binary random variable but its probaility distribution depend on $X_t$.\n",
    "- If $X_{t - 3} = 0$ and $X_{t - 8} = 0$, probability of $Y_t = 1$ is $0.5$. \n",
    "- If $X_{t - 3} = 0$ and $X_{t - 8} = 1$, probability of $Y_t = 1$ is $0.25$.\n",
    "- If $X_{t - 3} = 1$ and $X_{t - 8} = 0$, probability of $Y_t = 1$ is $1.0$.\n",
    "- If $X_{t - 3} = 1$ and $X_{t - 8} = 1$, probability of $Y_t = 1$ is $0.75$."
   ]
  },
  {
   "cell_type": "markdown",
   "metadata": {},
   "source": [
    "The probability of the output is $1$ is \n",
    "$$P(Y = 1) = 0.25\\times (0.5 + 0.25 + 1 + 0.75) = 0.625$$"
   ]
  },
  {
   "cell_type": "markdown",
   "metadata": {},
   "source": [
    "The cross-entropy loss that we should expect in this case can be calculated as following: "
   ]
  },
  {
   "cell_type": "markdown",
   "metadata": {},
   "source": [
    "If our model does not learn any time dependencies, the error we will get will be approxiamtely equal to \n",
    "$$\n",
    "- P(Y = 1) \\log P(\\hat{Y} = 1) - P(Y = 0) \\log P(\\hat{Y} = 0) \n",
    "= \n",
    "-0.625 \\log(0.625) - 0.375 \\log(0.375) \n",
    "= 0.6615\n",
    "$$ "
   ]
  },
  {
   "cell_type": "markdown",
   "metadata": {},
   "source": [
    "If our model learns the first time-dependencies, then it will predict the target is $1$ based on the third input. \n",
    "\\begin{eqnarray}\n",
    "P(X_{-3} = 0) \\left(- P(Y = 1 | X_{-3} = 0) \\log P(\\hat{Y} = 1 | X_{-3} = 0) - P(Y = 0 | X_{-3} = 0) \\log P(\\hat{Y} = 0 | X_{-3} = 0)\\right) + P(X_{-3} = 1) \\left(- P(Y = 1 | X_{-3} = 1) \\log P(\\hat{Y} = 1 | X_{-3} = 1) - P(Y = 0 | X_{-3}   1) \\log P(\\hat{Y} = 0 | X_{-3} = 1)\\right) \\\\\n",
    "= 0.5 \\left(- 0.375 \\log(0.375) - 0.625 \\log(0.625) \\right) + 0.5 \\left(- 0.875 \\log(0.875) - 0.125 \\log(0.125) \\right) \\\\\n",
    "= 0.52\n",
    "\\end{eqnarray}"
   ]
  },
  {
   "cell_type": "markdown",
   "metadata": {},
   "source": [
    "If our model learns both the time-dependencies, then the cross entropy error we will get is\n",
    "$$\n",
    "0.25 \\left(\\log(0.5) + \\left(-0.25 \\log(0.25) - 0.75 \\log(0.75)\\right) + 0 + \\left(-0.25 \\log(0.25) - 0.75 \\log(0.75)\\right)\\right)\n",
    "= 0.45445\n",
    "$$"
   ]
  },
  {
   "cell_type": "code",
   "execution_count": 1,
   "metadata": {
    "collapsed": true
   },
   "outputs": [],
   "source": [
    "import tensorflow as tf\n",
    "import numpy as np\n",
    "import matplotlib.pyplot as plt\n",
    "%matplotlib inline"
   ]
  },
  {
   "cell_type": "markdown",
   "metadata": {},
   "source": [
    "### Input"
   ]
  },
  {
   "cell_type": "code",
   "execution_count": 2,
   "metadata": {
    "collapsed": true
   },
   "outputs": [],
   "source": [
    "batch_size = 200\n",
    "data_size = 1000000\n",
    "num_classes = 2"
   ]
  },
  {
   "cell_type": "code",
   "execution_count": 3,
   "metadata": {
    "collapsed": true
   },
   "outputs": [],
   "source": [
    "def gen_data(data_size=data_size):\n",
    "    \"\"\"Return the X and Y sequence generated according the rule described\n",
    "    above\n",
    "    \"\"\"\n",
    "    x = np.random.choice(2, size=(data_size,))\n",
    "    y = []\n",
    "    for i in xrange(data_size):\n",
    "        threshold = 0.5\n",
    "        if x[i - 3] == 1:\n",
    "            threshold += 0.5\n",
    "        if x[i - 4] == 1:\n",
    "            threshold -= 0.25\n",
    "        if np.random.rand() > threshold:\n",
    "            y.append(0)\n",
    "        else:\n",
    "            y.append(1)\n",
    "    return x, np.array(y)"
   ]
  },
  {
   "cell_type": "code",
   "execution_count": 4,
   "metadata": {
    "collapsed": false
   },
   "outputs": [],
   "source": [
    "def gen_batch(raw_data, batch_size, num_steps):\n",
    "    \"\"\"Return a generator for producing the input sequence and target sequence for rnn\n",
    "    \"\"\"\n",
    "    x, y = raw_data\n",
    "    \n",
    "    size = len(x)\n",
    "    column_size = size // batch_size\n",
    "    \n",
    "    data_x = np.zeros((batch_size, column_size), dtype = np.int32)\n",
    "    data_y = np.zeros((batch_size, column_size), dtype = np.int32)\n",
    "    \n",
    "    for i in xrange(batch_size):\n",
    "        data_x[i] = x[i * column_size:(i + 1) * column_size]\n",
    "        data_y[i] = y[i * column_size:(i + 1) * column_size]\n",
    "        \n",
    "    num_epochs = column_size // num_steps\n",
    "    \n",
    "    for i in xrange(num_epochs):\n",
    "        x = data_x[:, i * num_steps:(i + 1) * num_steps]\n",
    "        y = data_y[:, i * num_steps:(i + 1) * num_steps]    \n",
    "        yield (x, y)\n",
    "        \n",
    "def gen_epoch(n, batch_size, num_steps):\n",
    "    \"\"\"Return a generator that gives data for N epochs\n",
    "    \"\"\"\n",
    "    for i in xrange(n):\n",
    "        data = gen_data()\n",
    "        yield gen_batch(data, batch_size, num_steps)"
   ]
  },
  {
   "cell_type": "code",
   "execution_count": 5,
   "metadata": {
    "collapsed": false
   },
   "outputs": [],
   "source": [
    "#### Testing for an Epoch \n",
    "epoch = gen_epoch(1, data_size, 1)\n",
    "batches = next(epoch)\n",
    "batch = next(batches)"
   ]
  },
  {
   "cell_type": "code",
   "execution_count": 6,
   "metadata": {
    "collapsed": false
   },
   "outputs": [
    {
     "name": "stdout",
     "output_type": "stream",
     "text": [
      "The average ones in Xs are 0.499979\n",
      "The average ones in Ys are 0.625837\n"
     ]
    }
   ],
   "source": [
    "#### The amount of one in ys should be close to 0.66\n",
    "#### The amount of one in xs should be close to 0.5 \n",
    "print \"The average ones in Xs are {}\".format((batch[0] == 1).mean())\n",
    "print \"The average ones in Ys are {}\".format((batch[1] == 1).mean())"
   ]
  },
  {
   "cell_type": "markdown",
   "metadata": {},
   "source": [
    "### RNN model"
   ]
  },
  {
   "cell_type": "code",
   "execution_count": 7,
   "metadata": {
    "collapsed": false
   },
   "outputs": [],
   "source": [
    "def create_variables(state_size, num_classes):\n",
    "    \"\"\"Create variables for RNN\n",
    "    \"\"\"\n",
    "    with tf.variable_scope(\"rnn\"):\n",
    "        W = tf.get_variable(\"W\", [num_classes + state_size, state_size])\n",
    "        b = tf.get_variable(\"b\", [state_size], initializer=tf.constant_initializer(0))\n",
    "    \n",
    "    with tf.variable_scope(\"softmax\"):\n",
    "        W_softmax = tf.get_variable(\"W_softmax\", [state_size, num_classes])\n",
    "        b_softmax = tf.get_variable(\"b_softmax\", [num_classes], \n",
    "                                   initializer=tf.constant_initializer(0))"
   ]
  },
  {
   "cell_type": "code",
   "execution_count": 8,
   "metadata": {
    "collapsed": true
   },
   "outputs": [],
   "source": [
    "def rnn(input_, state, state_size, num_classes):\n",
    "    \"\"\" Creating a model for RNN\n",
    "    \"\"\"\n",
    "    with tf.variable_scope(\"rnn\", reuse=True):\n",
    "        W = tf.get_variable(\"W\", [num_classes + state_size, state_size], \n",
    "                            initializer=tf.truncated_normal_initializer())\n",
    "        b = tf.get_variable(\"b\", [state_size], initializer=tf.constant_initializer(0))\n",
    "        return tf.tanh(tf.matmul(tf.concat(1, [input_, state]), W) + b)"
   ]
  },
  {
   "cell_type": "code",
   "execution_count": 9,
   "metadata": {
    "collapsed": true
   },
   "outputs": [],
   "source": [
    "def rnn_loop(rnn_inputs, init_state, state_size, num_classes):\n",
    "    state = init_state\n",
    "    outputs = []\n",
    "    for x in rnn_inputs:\n",
    "        state = rnn(x, state, state_size, num_classes)\n",
    "        outputs.append(state)\n",
    "    return outputs"
   ]
  },
  {
   "cell_type": "code",
   "execution_count": 10,
   "metadata": {
    "collapsed": true
   },
   "outputs": [],
   "source": [
    "def softmax(outputs, state_size, num_classes):\n",
    "    with tf.variable_scope(\"softmax\", reuse=True):\n",
    "        W_softmax = tf.get_variable(\"W_softmax\", [state_size, num_classes])\n",
    "        b_softmax = tf.get_variable(\"b_softmax\", [num_classes], \n",
    "                                   initializer=tf.constant_initializer(0))\n",
    "        logits = [tf.matmul(o, W_softmax) + b_softmax for o in outputs]\n",
    "        probabilities = [tf.nn.softmax(l) for l in logits]\n",
    "    return logits\n",
    "            "
   ]
  },
  {
   "cell_type": "code",
   "execution_count": 11,
   "metadata": {
    "collapsed": true
   },
   "outputs": [],
   "source": [
    "def loss(logits, y_target):\n",
    "    return tf.reduce_mean([tf.nn.sparse_softmax_cross_entropy_with_logits(l, y_target[:, i])\n",
    "            for i, l in enumerate(logits)])"
   ]
  },
  {
   "cell_type": "code",
   "execution_count": 12,
   "metadata": {
    "collapsed": false
   },
   "outputs": [],
   "source": [
    "def train(n_epoch=1, batch_size=200, num_steps=10, learning_rate=0.1, state_size=5):\n",
    "    \n",
    "    #### create placeholders\n",
    "    x_input = tf.placeholder(tf.int32, shape=(batch_size, num_steps))\n",
    "    y_target = tf.placeholder(tf.int32, shape=(batch_size, num_steps))\n",
    "    init_state = tf.placeholder(tf.float32, shape=(batch_size, state_size))   \n",
    "    x_one_hot = tf.one_hot(x_input, num_classes)\n",
    "    rnn_inputs = tf.unpack(x_one_hot, axis=1)\n",
    "\n",
    "    # Parameters for RNN\n",
    "    num_steps = num_steps\n",
    "    state_size = state_size\n",
    "    n_epoch = n_epoch\n",
    "    learning_rate = 0.001\n",
    "    init_state_value = np.zeros((batch_size, state_size))\n",
    "    \n",
    "    #creating the model\n",
    "    create_variables(state_size, num_classes)\n",
    "    outputs = rnn_loop(rnn_inputs, init_state, state_size, num_classes)\n",
    "    final_state = outputs[-1]\n",
    "    training_loss = loss(softmax(outputs, state_size, num_classes), y_target)\n",
    "    train_op = tf.train.AdamOptimizer(learning_rate=learning_rate).minimize(training_loss)\n",
    "\n",
    "    #Training the model\n",
    "    with tf.Session() as sess:\n",
    "        sess.run(tf.initialize_all_variables())\n",
    "        losses = []\n",
    "\n",
    "        for itr_epoch, epoch in enumerate(gen_epoch(n_epoch, batch_size=batch_size, num_steps=num_steps)):\n",
    "            print \"EPOCH: {}\".format(itr_epoch)\n",
    "            for itr_batch, (_x, _y) in enumerate(epoch): \n",
    "                init_state_value, loss_, _ = sess.run([final_state, training_loss, train_op], \n",
    "                                                      {x_input: _x, y_target: _y, init_state: init_state_value})\n",
    "                if itr_batch % 100 == 0:\n",
    "                    losses.append(loss_)\n",
    "                \n",
    "    return losses\n"
   ]
  },
  {
   "cell_type": "code",
   "execution_count": 13,
   "metadata": {
    "collapsed": false
   },
   "outputs": [
    {
     "name": "stdout",
     "output_type": "stream",
     "text": [
      "EPOCH: 0\n",
      "EPOCH: 1\n",
      "EPOCH: 2\n",
      "EPOCH: 3\n",
      "EPOCH: 4\n"
     ]
    }
   ],
   "source": [
    "losses = train(n_epoch=5)"
   ]
  },
  {
   "cell_type": "code",
   "execution_count": null,
   "metadata": {
    "collapsed": false
   },
   "outputs": [],
   "source": []
  },
  {
   "cell_type": "code",
   "execution_count": 14,
   "metadata": {
    "collapsed": false
   },
   "outputs": [
    {
     "data": {
      "text/plain": [
       "[<matplotlib.lines.Line2D at 0x7f606908c590>]"
      ]
     },
     "execution_count": 14,
     "metadata": {},
     "output_type": "execute_result"
    },
    {
     "data": {
      "image/png": "[encoded data removed]",
      "text/plain": [
       "<matplotlib.figure.Figure at 0x7f60685b4fd0>"
      ]
     },
     "metadata": {},
     "output_type": "display_data"
    }
   ],
   "source": [
    "plt.plot(losses)"
   ]
  },
  {
   "cell_type": "code",
   "execution_count": 15,
   "metadata": {
    "collapsed": false
   },
   "outputs": [
    {
     "ename": "NameError",
     "evalue": "name 'itr' is not defined",
     "output_type": "error",
     "traceback": [
      "\u001b[0;31m---------------------------------------------------------------------------\u001b[0m",
      "\u001b[0;31mNameError\u001b[0m                                 Traceback (most recent call last)",
      "\u001b[0;32m<ipython-input-15-90996a87c914>\u001b[0m in \u001b[0;36m<module>\u001b[0;34m()\u001b[0m\n\u001b[0;32m----> 1\u001b[0;31m \u001b[0mitr\u001b[0m\u001b[0;34m\u001b[0m\u001b[0m\n\u001b[0m",
      "\u001b[0;31mNameError\u001b[0m: name 'itr' is not defined"
     ]
    }
   ],
   "source": [
    "itr"
   ]
  },
  {
   "cell_type": "code",
   "execution_count": null,
   "metadata": {
    "collapsed": true
   },
   "outputs": [],
   "source": []
  },
  {
   "cell_type": "code",
   "execution_count": null,
   "metadata": {
    "collapsed": true
   },
   "outputs": [],
   "source": []
  },
  {
   "cell_type": "code",
   "execution_count": null,
   "metadata": {
    "collapsed": true
   },
   "outputs": [],
   "source": []
  },
  {
   "cell_type": "code",
   "execution_count": null,
   "metadata": {
    "collapsed": true
   },
   "outputs": [],
   "source": []
  },
  {
   "cell_type": "code",
   "execution_count": null,
   "metadata": {
    "collapsed": true
   },
   "outputs": [],
   "source": []
  }
 ],
 "metadata": {
  "kernelspec": {
   "display_name": "Python 2",
   "language": "python",
   "name": "python2"
  },
  "language_info": {
   "codemirror_mode": {
    "name": "ipython",
    "version": 2
   },
   "file_extension": ".py",
   "mimetype": "text/x-python",
   "name": "python",
   "nbconvert_exporter": "python",
   "pygments_lexer": "ipython2",
   "version": "2.7.12"
  }
 },
 "nbformat": 4,
 "nbformat_minor": 1
}
